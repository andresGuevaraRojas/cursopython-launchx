{
 "cells": [
  {
   "cell_type": "markdown",
   "metadata": {},
   "source": [
    "# Creación de un bucle while"
   ]
  },
  {
   "cell_type": "markdown",
   "metadata": {},
   "source": [
    "## Agregar variables"
   ]
  },
  {
   "cell_type": "code",
   "execution_count": 7,
   "metadata": {},
   "outputs": [],
   "source": [
    "new_planet = ''\n",
    "planets = []"
   ]
  },
  {
   "cell_type": "markdown",
   "metadata": {},
   "source": [
    "## Crear ciclo"
   ]
  },
  {
   "cell_type": "code",
   "execution_count": 8,
   "metadata": {},
   "outputs": [
    {
     "name": "stdout",
     "output_type": "stream",
     "text": [
      "Para dejar de ingresar planetas escriba la palabra done\n",
      "El planeta no fue guardado, no se permiten valores vacios\n",
      "El planeta no fue guardado, no se permiten valores vacios\n",
      "Planetas ingresados ['Venus', 'Tierra', 'Marte']\n"
     ]
    }
   ],
   "source": [
    "print('Para dejar de ingresar planetas escriba la palabra done')\n",
    "while True:\n",
    "    new_planet = input('Ingresa el nombre de un planeta: ')\n",
    "    if new_planet == 'done':\n",
    "        break\n",
    "    if new_planet == '':\n",
    "        print('El planeta no fue guardado, no se permiten valores vacios')\n",
    "    else:\n",
    "        planets.append(new_planet)\n",
    "    \n",
    "print('Planetas ingresados',planets)"
   ]
  },
  {
   "cell_type": "markdown",
   "metadata": {},
   "source": [
    "# Creación de un ciclo for"
   ]
  },
  {
   "cell_type": "markdown",
   "metadata": {},
   "source": [
    " ## Iterar sobre la lista de planetas"
   ]
  },
  {
   "cell_type": "code",
   "execution_count": 9,
   "metadata": {},
   "outputs": [
    {
     "name": "stdout",
     "output_type": "stream",
     "text": [
      "Venus\n",
      "Tierra\n",
      "Marte\n"
     ]
    }
   ],
   "source": [
    "for planet in planets:\n",
    "    print(planet)"
   ]
  }
 ],
 "metadata": {
  "interpreter": {
   "hash": "d085862a9ca859776e9ce56c5eed70416671f97726eea591123a0bfee86eff14"
  },
  "kernelspec": {
   "display_name": "Python 3.10.1 64-bit",
   "language": "python",
   "name": "python3"
  },
  "language_info": {
   "codemirror_mode": {
    "name": "ipython",
    "version": 3
   },
   "file_extension": ".py",
   "mimetype": "text/x-python",
   "name": "python",
   "nbconvert_exporter": "python",
   "pygments_lexer": "ipython3",
   "version": "3.10.1"
  },
  "orig_nbformat": 4
 },
 "nbformat": 4,
 "nbformat_minor": 2
}
