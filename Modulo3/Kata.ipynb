{
 "cells": [
  {
   "cell_type": "markdown",
   "metadata": {},
   "source": [
    "# Logica booleana"
   ]
  },
  {
   "cell_type": "markdown",
   "metadata": {},
   "source": [
    "## Asteroide se acerca demaciado rápido a la tierra"
   ]
  },
  {
   "cell_type": "code",
   "execution_count": 3,
   "metadata": {},
   "outputs": [
    {
     "name": "stdout",
     "output_type": "stream",
     "text": [
      "Un asteroide se esta acercando a la tierra a una gran velocidad\n"
     ]
    }
   ],
   "source": [
    "#velocidad en km/s\n",
    "velocidad_advertencia = 25\n",
    "velocidad_asteroide = 49\n",
    "\n",
    "if(velocidad_asteroide>velocidad_advertencia):\n",
    "    print('Un asteroide se esta acercando a la tierra a una gran velocidad')\n",
    "else:\n",
    "    print('Fresco el pana')"
   ]
  },
  {
   "cell_type": "markdown",
   "metadata": {},
   "source": [
    "## Alertar a las personas para buscar un asteroide en el cielo"
   ]
  },
  {
   "cell_type": "code",
   "execution_count": 2,
   "metadata": {},
   "outputs": [
    {
     "name": "stdout",
     "output_type": "stream",
     "text": [
      "Sin novedades\n"
     ]
    }
   ],
   "source": [
    "velocidad_produce_rayo = 20\n",
    "velocidad_asteroide = 19\n",
    "if(velocidad_asteroide>=velocidad_produce_rayo):\n",
    "    print(\"Un asteroide entro en la atsmosfera, hay una luz en el cielo\")\n",
    "else:\n",
    "    print('Sin novedades')"
   ]
  },
  {
   "cell_type": "markdown",
   "metadata": {},
   "source": [
    "## Adventencia asteroide"
   ]
  },
  {
   "cell_type": "code",
   "execution_count": 14,
   "metadata": {},
   "outputs": [
    {
     "name": "stdout",
     "output_type": "stream",
     "text": [
      "Un asteoride muy peligroso se hacerca a la tierra a una velocidad de 49 km/s con un tamaño de 40 m\n"
     ]
    }
   ],
   "source": [
    "velocidad_advertencia = 25\n",
    "velocidad_produce_rayo = 20\n",
    "velocidad_asteroide = 49\n",
    "dimencion_asteroide = 40\n",
    "\n",
    "if(velocidad_asteroide>velocidad_advertencia and dimencion_asteroide>25 and dimencion_asteroide<1000):\n",
    "    print(f'Un asteoride muy peligroso se hacerca a la tierra a una velocidad de {velocidad_asteroide} km/s con un tamaño de {dimencion_asteroide} m')\n",
    "elif(velocidad_asteroide>=velocidad_produce_rayo):\n",
    "    print(f'Un asteroide entro a la tierra con una velocidad de ${velocidad_asteroide}, esta produciendo una luz en el cielo en este momento')\n",
    "elif(dimencion_asteroide<=25):\n",
    "    print('Hay un asteoride de {25} m, no genera ningua amenaza')\n",
    "else:\n",
    "    print('Sin novedades')\n",
    "\n"
   ]
  }
 ],
 "metadata": {
  "interpreter": {
   "hash": "d085862a9ca859776e9ce56c5eed70416671f97726eea591123a0bfee86eff14"
  },
  "kernelspec": {
   "display_name": "Python 3.10.1 64-bit",
   "language": "python",
   "name": "python3"
  },
  "language_info": {
   "codemirror_mode": {
    "name": "ipython",
    "version": 3
   },
   "file_extension": ".py",
   "mimetype": "text/x-python",
   "name": "python",
   "nbconvert_exporter": "python",
   "pygments_lexer": "ipython3",
   "version": "3.10.1"
  },
  "orig_nbformat": 4
 },
 "nbformat": 4,
 "nbformat_minor": 2
}
